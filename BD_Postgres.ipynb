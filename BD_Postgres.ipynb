{
  "nbformat": 4,
  "nbformat_minor": 0,
  "metadata": {
    "colab": {
      "provenance": [],
      "mount_file_id": "1dPogrZNYoiH7xPLZIxdOjwkM9_AJuyTN",
      "authorship_tag": "ABX9TyO44epsa1eRwE/IOIufDlte",
      "include_colab_link": true
    },
    "kernelspec": {
      "name": "python3",
      "display_name": "Python 3"
    },
    "language_info": {
      "name": "python"
    }
  },
  "cells": [
    {
      "cell_type": "markdown",
      "metadata": {
        "id": "view-in-github",
        "colab_type": "text"
      },
      "source": [
        "<a href=\"https://colab.research.google.com/github/brunoodon/sprintIII_datascience/blob/main/BD_Postgres.ipynb\" target=\"_parent\"><img src=\"https://colab.research.google.com/assets/colab-badge.svg\" alt=\"Open In Colab\"/></a>"
      ]
    },
    {
      "cell_type": "markdown",
      "source": [
        "# Banco de Dados Relacionais\n",
        "---\n",
        "## Postgres\n"
      ],
      "metadata": {
        "id": "NRmtkfSIRd7m"
      }
    },
    {
      "cell_type": "code",
      "execution_count": 12,
      "metadata": {
        "colab": {
          "base_uri": "https://localhost:8080/"
        },
        "id": "JXP5G4IVQRnZ",
        "outputId": "474b395a-8f59-4919-fddf-f0fed8ac5efb"
      },
      "outputs": [
        {
          "output_type": "stream",
          "name": "stdout",
          "text": [
            "\r0% [Working]\r            \rHit:1 https://cloud.r-project.org/bin/linux/ubuntu jammy-cran40/ InRelease\n",
            "\r0% [Connecting to archive.ubuntu.com] [Waiting for headers] [Connecting to ppa.\r                                                                               \rHit:2 http://security.ubuntu.com/ubuntu jammy-security InRelease\n",
            "\r0% [Connecting to archive.ubuntu.com (91.189.91.83)] [Connecting to ppa.launchp\r                                                                               \rHit:3 http://archive.ubuntu.com/ubuntu jammy InRelease\n",
            "\r0% [Waiting for headers] [Connecting to ppa.launchpadcontent.net] [Waiting for \r                                                                               \rHit:4 http://archive.ubuntu.com/ubuntu jammy-updates InRelease\n",
            "\r0% [Waiting for headers] [Connecting to ppa.launchpadcontent.net] [Waiting for \r                                                                               \rGet:5 http://archive.ubuntu.com/ubuntu jammy-backports InRelease [109 kB]\n",
            "Hit:6 https://developer.download.nvidia.com/compute/cuda/repos/ubuntu2204/x86_64  InRelease\n",
            "Hit:7 https://ppa.launchpadcontent.net/c2d4u.team/c2d4u4.0+/ubuntu jammy InRelease\n",
            "Hit:8 https://ppa.launchpadcontent.net/deadsnakes/ppa/ubuntu jammy InRelease\n",
            "Hit:9 https://ppa.launchpadcontent.net/graphics-drivers/ppa/ubuntu jammy InRelease\n",
            "Hit:10 https://ppa.launchpadcontent.net/ubuntugis/ppa/ubuntu jammy InRelease\n",
            "Fetched 109 kB in 1s (73.6 kB/s)\n",
            "Reading package lists... Done\n",
            "Requirement already satisfied: sqlalchemy==2.0 in /usr/local/lib/python3.10/dist-packages (2.0.0)\n",
            "Requirement already satisfied: typing-extensions>=4.2.0 in /usr/local/lib/python3.10/dist-packages (from sqlalchemy==2.0) (4.7.1)\n",
            "Requirement already satisfied: greenlet!=0.4.17 in /usr/local/lib/python3.10/dist-packages (from sqlalchemy==2.0) (2.0.2)\n",
            "Reading package lists... Done\n",
            "Building dependency tree... Done\n",
            "Reading state information... Done\n",
            "postgresql is already the newest version (14+238).\n",
            "0 upgraded, 0 newly installed, 0 to remove and 16 not upgraded.\n",
            " * Restarting PostgreSQL 14 database server\n",
            "   ...done.\n",
            "ALTER ROLE\n"
          ]
        }
      ],
      "source": [
        "# %%capture\n",
        "!sudo apt-get update\n",
        "!pip install sqlalchemy==2.0\n",
        "!sudo apt-get install postgresql -y\n",
        "!sudo service postgresql restart\n",
        "!sudo -u postgres psql -U postgres -c \"ALTER USER postgres PASSWORD 'postgres';\""
      ]
    },
    {
      "cell_type": "code",
      "source": [
        "#Montando o diretório do Google Drive onde está o esquema de banco de dados\n",
        "from google.colab import drive\n",
        "drive.mount('/content/BD_files')"
      ],
      "metadata": {
        "colab": {
          "base_uri": "https://localhost:8080/"
        },
        "id": "KufryBwURzna",
        "outputId": "8d5f948a-cbf6-4b1a-9c85-2d365d14523d"
      },
      "execution_count": 13,
      "outputs": [
        {
          "output_type": "stream",
          "name": "stdout",
          "text": [
            "Drive already mounted at /content/BD_files; to attempt to forcibly remount, call drive.mount(\"/content/BD_files\", force_remount=True).\n"
          ]
        }
      ]
    },
    {
      "cell_type": "code",
      "source": [
        "#Criando esquema de banco de dados[\n",
        "!sudo -u postgres psql -U postgres -c 'DROP SCHEMA IF EXISTS carros CASCADE;'\n",
        "!sudo -u postgres psql -U postgres -c 'CREATE SCHEMA carros'\n",
        "!PGPASSWORD='postgres' psql -h localhost -U postgres -d postgres -a -f drive/MyDrive/BD_files/esquema_carros.sql"
      ],
      "metadata": {
        "colab": {
          "base_uri": "https://localhost:8080/"
        },
        "id": "pyBN2JwVTeZm",
        "outputId": "02e3a71c-6e94-4360-a02a-00746015e72d"
      },
      "execution_count": 14,
      "outputs": [
        {
          "output_type": "stream",
          "name": "stdout",
          "text": [
            "DROP SCHEMA\n",
            "CREATE SCHEMA\n",
            "psql: error: drive/MyDrive/BD_files/esquema_carros.sql: Transport endpoint is not connected\n"
          ]
        }
      ]
    }
  ]
}