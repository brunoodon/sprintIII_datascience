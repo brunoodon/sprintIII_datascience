{
  "nbformat": 4,
  "nbformat_minor": 0,
  "metadata": {
    "colab": {
      "provenance": [],
      "toc_visible": true,
      "authorship_tag": "ABX9TyOj0iTKCDENWWMmp38RGCE0",
      "include_colab_link": true
    },
    "kernelspec": {
      "name": "python3",
      "display_name": "Python 3"
    },
    "language_info": {
      "name": "python"
    }
  },
  "cells": [
    {
      "cell_type": "markdown",
      "metadata": {
        "id": "view-in-github",
        "colab_type": "text"
      },
      "source": [
        "<a href=\"https://colab.research.google.com/github/brunoodon/sprintIII_datascience/blob/main/MVP_SprintIII.ipynb\" target=\"_parent\"><img src=\"https://colab.research.google.com/assets/colab-badge.svg\" alt=\"Open In Colab\"/></a>"
      ]
    },
    {
      "cell_type": "markdown",
      "source": [
        "# Alertas de Vulnerabilidades Recentemente Exploradas\n",
        "\n",
        "Praticamente todos os dias, novas vulnerabilidades em aplicações são descobertas, atualizadas e/ou exploradas por atacantes. É essencial ter uma visão ampla da situação de ativos da organização em relação a essas vulnerabilidades e, tendo isso em vista, quanto maior for a quantidade de ativos e a diversidade de aplicações, mais se faz necessária a adoção de um arcabouço robusto de Big Data.\n",
        "\n",
        "## Objetivo\n",
        "\n",
        "Obter a lista de hosts e aplicações sucessíveis a vulnerabilidades recentemente exploradas por atacantes\n"
      ],
      "metadata": {
        "id": "z9y39HC0z98u"
      }
    }
  ]
}