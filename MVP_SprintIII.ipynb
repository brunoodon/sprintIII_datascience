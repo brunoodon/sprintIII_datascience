{
  "nbformat": 4,
  "nbformat_minor": 0,
  "metadata": {
    "colab": {
      "provenance": [],
      "toc_visible": true,
      "authorship_tag": "ABX9TyPzBPSZbxA9JqrubkyXSqy7",
      "include_colab_link": true
    },
    "kernelspec": {
      "name": "python3",
      "display_name": "Python 3"
    },
    "language_info": {
      "name": "python"
    }
  },
  "cells": [
    {
      "cell_type": "markdown",
      "metadata": {
        "id": "view-in-github",
        "colab_type": "text"
      },
      "source": [
        "<a href=\"https://colab.research.google.com/github/brunoodon/sprintIII_datascience/blob/main/MVP_SprintIII.ipynb\" target=\"_parent\"><img src=\"https://colab.research.google.com/assets/colab-badge.svg\" alt=\"Open In Colab\"/></a>"
      ]
    },
    {
      "cell_type": "markdown",
      "source": [
        "# Alertas de Vulnerabilidades Recentemente Exploradas\n",
        "\n",
        "Praticamente todos os dias, novas vulnerabilidades em aplicações são descobertas e atualizadas por pesquisadores e exploradas por atacantes. É essencial ter uma visão ampla da situação de ativos da organização em relação a essas vulnerabilidades e, tendo isso em vista, quanto maior for a quantidade de ativos e a diversidade de aplicações, mais se faz necessária a adoção de um arcabouço robusto de Big Data.\n",
        "\n",
        "\n",
        "\n",
        "\n",
        "\n",
        "\n",
        "\n",
        "\n",
        "\n"
      ],
      "metadata": {
        "id": "z9y39HC0z98u"
      }
    },
    {
      "cell_type": "markdown",
      "source": [
        "## Objetivo\n",
        "\n",
        "Ter, de forma automatizada , alertas de hosts e aplicações vulneráveis, afim de que as mesmas sejam resolvidas ou mitigadas antes que virem ataques cibernéticos.\n",
        "\n",
        "Premissas:\n",
        "\n",
        "\n",
        "*   Um inventário atualizado de hosts e aplicações;\n",
        "*   O Catálogo de Vulnerabilidades Exploradas (Known Exploited Vulnerabilities - [KEV](https://https://www.cisa.gov/known-exploited-vulnerabilities-catalog)), mantido pelo CISA;\n",
        "*   Um repositório onde o inventário e o catpalogo KEV possam ser armazenados;\n",
        "*   Uma Data Warehouse, para onde esses alertas de vulnerabilidades possam ser carregados;\n",
        "*   Um fluxo de ETL para coleta no repositório, tranformação e carga desses dados correlacionados no Data Warehouse;\n",
        "*   Uma plataforma de BI, onde seja possível a criação de gráficos e dashboards para ter uma visão mais analítica desses alertas.\n",
        "\n"
      ],
      "metadata": {
        "id": "4rd2cqR-OnPb"
      }
    },
    {
      "cell_type": "markdown",
      "source": [
        "## Coleta"
      ],
      "metadata": {
        "id": "_IViY0vqOfyE"
      }
    },
    {
      "cell_type": "markdown",
      "source": [
        "## Modelagem"
      ],
      "metadata": {
        "id": "GTBlIYKSOrhT"
      }
    },
    {
      "cell_type": "markdown",
      "source": [
        "## Carga"
      ],
      "metadata": {
        "id": "INmpnXnkOvVL"
      }
    },
    {
      "cell_type": "markdown",
      "source": [
        "## Análise"
      ],
      "metadata": {
        "id": "iga2mSMUO2vb"
      }
    }
  ]
}